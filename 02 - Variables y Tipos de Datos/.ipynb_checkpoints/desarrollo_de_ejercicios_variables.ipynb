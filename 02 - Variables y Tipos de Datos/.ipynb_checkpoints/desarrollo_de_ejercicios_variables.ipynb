{
 "cells": [
  {
   "cell_type": "code",
   "execution_count": 2,
   "metadata": {},
   "outputs": [
    {
     "name": "stdout",
     "output_type": "stream",
     "text": [
      "200\n"
     ]
    }
   ],
   "source": [
    "# 1. Crear una variable que contenga un elemento del conjunto de números enteros y luego imprimir por pantalla\n",
    "poblacion1 = 200\n",
    "print(poblacion1)\n",
    " "
   ]
  },
  {
   "cell_type": "code",
   "execution_count": 3,
   "metadata": {},
   "outputs": [
    {
     "data": {
      "text/plain": [
       "float"
      ]
     },
     "execution_count": 3,
     "metadata": {},
     "output_type": "execute_result"
    }
   ],
   "source": [
    "# 2. Imprimir el tipo de dato de la constante 8.5\n",
    "mi_variable = 8.5\n",
    "type(mi_variable)"
   ]
  },
  {
   "cell_type": "code",
   "execution_count": 4,
   "metadata": {},
   "outputs": [
    {
     "data": {
      "text/plain": [
       "int"
      ]
     },
     "execution_count": 4,
     "metadata": {},
     "output_type": "execute_result"
    }
   ],
   "source": [
    "# 3. Imprimir el tipo de dato de la variable creada en el punto 1\n",
    "\n",
    "type(poblacion1)"
   ]
  },
  {
   "cell_type": "code",
   "execution_count": 8,
   "metadata": {},
   "outputs": [],
   "source": [
    "# 4. Crear una variable que contenga tu nombre\n",
    "mi_nombre = 'oscar buitrago'"
   ]
  },
  {
   "cell_type": "code",
   "execution_count": 10,
   "metadata": {},
   "outputs": [],
   "source": [
    "# 5. Crear una variable que contenga un número complejo\n",
    "numero_complejo = 5 + 5j"
   ]
  },
  {
   "cell_type": "code",
   "execution_count": 11,
   "metadata": {},
   "outputs": [
    {
     "data": {
      "text/plain": [
       "complex"
      ]
     },
     "execution_count": 11,
     "metadata": {},
     "output_type": "execute_result"
    }
   ],
   "source": [
    "# 6. Mostrar el tipo de dato de la variable crada en el punto 5\n",
    "type(numero_complejo)"
   ]
  },
  {
   "cell_type": "code",
   "execution_count": 14,
   "metadata": {},
   "outputs": [],
   "source": [
    "# 7. Crear una variable que contenga el valor del número Pi redondeado a 4 decimales\n",
    "pi= 3.1416"
   ]
  },
  {
   "cell_type": "code",
   "execution_count": 22,
   "metadata": {},
   "outputs": [],
   "source": [
    "# 8. Crear una variable que contenga el valor 'True' y otra que contenga el valor True. ¿Se trata de lo mismo?\n",
    "a = 'True'    \n",
    "b = True\n",
    "\n",
    "# no es lo mismo, 'True' corresponde a un string y True corresponde a un a un valor booleano"
   ]
  },
  {
   "cell_type": "code",
   "execution_count": 24,
   "metadata": {},
   "outputs": [
    {
     "data": {
      "text/plain": [
       "(str, bool)"
      ]
     },
     "execution_count": 24,
     "metadata": {},
     "output_type": "execute_result"
    }
   ],
   "source": [
    "# 9. Imprimir el tipo de dato correspondiente a las variables creadas en el punto 8\n",
    "type(a) , type(b)"
   ]
  },
  {
   "cell_type": "code",
   "execution_count": 25,
   "metadata": {},
   "outputs": [],
   "source": [
    "# 10. Asignar una variable, la suma de un numero entero y otro decimal\n",
    "var1 = 10 + 10.5"
   ]
  },
  {
   "cell_type": "code",
   "execution_count": 28,
   "metadata": {},
   "outputs": [
    {
     "name": "stdout",
     "output_type": "stream",
     "text": [
      "30j\n"
     ]
    }
   ],
   "source": [
    "# 11. Realizar una operacion de suma de numeros complejos\n",
    "n_comp1= 20j\n",
    "n_comp2= 10j\n",
    "print (n_comp1 + n_comp2)"
   ]
  },
  {
   "cell_type": "code",
   "execution_count": 29,
   "metadata": {},
   "outputs": [
    {
     "name": "stdout",
     "output_type": "stream",
     "text": [
      "(12.5+15j)\n"
     ]
    }
   ],
   "source": [
    "# 12. Realizar una operacion de suma de un numero real y otro complejo\n",
    "n_real = 12.5\n",
    "n_comp3 = 15j\n",
    "print(n_real + n_comp3)"
   ]
  },
  {
   "cell_type": "code",
   "execution_count": 33,
   "metadata": {},
   "outputs": [
    {
     "name": "stdout",
     "output_type": "stream",
     "text": [
      "180\n"
     ]
    }
   ],
   "source": [
    "# 13. Realizar una operacion de multiplicacion\n",
    "prom_venta = 60\n",
    "mes = 3\n",
    "print(prom_venta * mes)"
   ]
  },
  {
   "cell_type": "code",
   "execution_count": 38,
   "metadata": {},
   "outputs": [
    {
     "name": "stdout",
     "output_type": "stream",
     "text": [
      "256\n"
     ]
    }
   ],
   "source": [
    "# 14. Mostrar el resultado de elevar 2 a la octava potencia\n",
    "c = 2**8\n",
    "print(c)    "
   ]
  },
  {
   "cell_type": "code",
   "execution_count": 44,
   "metadata": {},
   "outputs": [
    {
     "name": "stdout",
     "output_type": "stream",
     "text": [
      "6.75\n"
     ]
    }
   ],
   "source": [
    "# 15. Obtener el cociente de la división de 27 entre 4 en una variable y luego mostrarla\n",
    "coc = 27/4\n",
    "print(coc)"
   ]
  },
  {
   "cell_type": "code",
   "execution_count": 45,
   "metadata": {},
   "outputs": [
    {
     "name": "stdout",
     "output_type": "stream",
     "text": [
      "6\n"
     ]
    }
   ],
   "source": [
    "# 16. De la division anterior solamente mostrar la parte entera\n",
    "coc = 27 // 4\n",
    "print (coc)"
   ]
  },
  {
   "cell_type": "code",
   "execution_count": 43,
   "metadata": {},
   "outputs": [
    {
     "name": "stdout",
     "output_type": "stream",
     "text": [
      "3\n"
     ]
    }
   ],
   "source": [
    "# 17. De la division de 27 entre 4 mostrar solamente el resto\n",
    "r = 27%4\n",
    "print(r)"
   ]
  },
  {
   "cell_type": "code",
   "execution_count": 48,
   "metadata": {},
   "outputs": [
    {
     "name": "stdout",
     "output_type": "stream",
     "text": [
      "27\n"
     ]
    }
   ],
   "source": [
    "# 18. Utilizando como operandos el número 4 y los resultados obtenidos en los puntos 16 y 17. Obtener 27 como resultado\n",
    "x = 6\n",
    "y = 4\n",
    "z = 3\n",
    "print (x * y + z)\n"
   ]
  },
  {
   "cell_type": "code",
   "execution_count": 52,
   "metadata": {},
   "outputs": [
    {
     "name": "stdout",
     "output_type": "stream",
     "text": [
      "ana maria\n"
     ]
    }
   ],
   "source": [
    "# 19. Usando el operador \"+\" en una operación donde intervienen solo variables alfanuméricas\n",
    "nom1 = 'ana '\n",
    "nom2 = 'maria'\n",
    "print (nom1 + nom2)"
   ]
  },
  {
   "cell_type": "code",
   "execution_count": 60,
   "metadata": {},
   "outputs": [
    {
     "data": {
      "text/plain": [
       "False"
      ]
     },
     "execution_count": 60,
     "metadata": {},
     "output_type": "execute_result"
    }
   ],
   "source": [
    "# 20. Evaluar si \"2\" es igual a 2. ¿Por qué ocurre eso?\n",
    "\"2\" == 2\n",
    "# no es la mismo, por que \"2\" es un dato tipo string por que esta encerrado entre comillas y 2 es un dato tipo numero entero"
   ]
  },
  {
   "cell_type": "code",
   "execution_count": 61,
   "metadata": {},
   "outputs": [
    {
     "name": "stdout",
     "output_type": "stream",
     "text": [
      "True\n"
     ]
    }
   ],
   "source": [
    "# 21. Usando las funciones de cambio de tipo de dato, para que la validación del punto 20 resulte verdadera\n",
    "print (int(\"2\") == 2)"
   ]
  },
  {
   "cell_type": "code",
   "execution_count": 62,
   "metadata": {},
   "outputs": [
    {
     "data": {
      "text/plain": [
       "float"
      ]
     },
     "execution_count": 62,
     "metadata": {},
     "output_type": "execute_result"
    }
   ],
   "source": [
    "# 22. ¿Por qué arroja error el siguiente cambio de tipo de datos? a = flotar('3,8')\n",
    "\n",
    "num3 = float('3.8')\n",
    "type(num3)\n",
    "\n",
    "# porque la funcion esta mal escrita, la forma correcta es float()"
   ]
  },
  {
   "cell_type": "code",
   "execution_count": 69,
   "metadata": {},
   "outputs": [
    {
     "name": "stdout",
     "output_type": "stream",
     "text": [
      "2\n"
     ]
    }
   ],
   "source": [
    "# 23. Cree una variable con el valor 3, y utilice el operador '-=' para modificar su contenido\n",
    "a = 3\n",
    "a -= 1\n",
    "print(a)"
   ]
  },
  {
   "cell_type": "code",
   "execution_count": 3,
   "metadata": {},
   "outputs": [
    {
     "data": {
      "text/plain": [
       "4"
      ]
     },
     "execution_count": 3,
     "metadata": {},
     "output_type": "execute_result"
    }
   ],
   "source": [
    "# 24. Realizar la operación 1 << 2 ¿Por qué da ese resultado? ¿Qué es el sistema de numeración binaria?\n",
    "\n",
    "1 << 2\n",
    "\n",
    "# el sistema binario es un sistema utilizado para representar numeros decimales, el sistema binario es de base 2, lo cual quiere decir que dispone solo de dos numeros para representar cantidades.\n",
    "# el simbolo <<,  es el operador shift, a nivel de bits de desplazamiento a la izquierda y en este caso me deplaza el 1 dos cifras a la izquierda, en numero binario equivale a 100 y en numero decimal equivale a 4."
   ]
  },
  {
   "cell_type": "code",
   "execution_count": 71,
   "metadata": {},
   "outputs": [
    {
     "ename": "TypeError",
     "evalue": "unsupported operand type(s) for +: 'int' and 'str'",
     "output_type": "error",
     "traceback": [
      "\u001b[1;31m---------------------------------------------------------------------------\u001b[0m",
      "\u001b[1;31mTypeError\u001b[0m                                 Traceback (most recent call last)",
      "Cell \u001b[1;32mIn[71], line 2\u001b[0m\n\u001b[0;32m      1\u001b[0m \u001b[39m# 25. Realizar la operación 2 + '2' ¿Por qué no está permitido? ¿Si los dos operandos fueran del mismo tipo, siempre arrojaría el mismo resultado?\u001b[39;00m\n\u001b[1;32m----> 2\u001b[0m \u001b[39m2\u001b[39;49m \u001b[39m+\u001b[39;49m \u001b[39m'\u001b[39;49m\u001b[39m2\u001b[39;49m\u001b[39m'\u001b[39;49m \n",
      "\u001b[1;31mTypeError\u001b[0m: unsupported operand type(s) for +: 'int' and 'str'"
     ]
    }
   ],
   "source": [
    "# 25. Realizar la operación 2 + '2' ¿Por qué no está permitido? ¿Si los dos operandos fueran del mismo tipo, siempre arrojaría el mismo resultado?\n",
    "2 + '2' \n",
    "\n",
    "# no es permitido ejecutar la accion por que los datos no son del mismo tipo, el uno es tipo entero y el otro es tipo string, hay que realizar cambio de tipo de datos para cada una de las operaciones."
   ]
  },
  {
   "cell_type": "code",
   "execution_count": 76,
   "metadata": {},
   "outputs": [
    {
     "data": {
      "text/plain": [
       "4.0"
      ]
     },
     "execution_count": 76,
     "metadata": {},
     "output_type": "execute_result"
    }
   ],
   "source": [
    "float(2) + float('2')"
   ]
  },
  {
   "cell_type": "code",
   "execution_count": 77,
   "metadata": {},
   "outputs": [
    {
     "data": {
      "text/plain": [
       "4"
      ]
     },
     "execution_count": 77,
     "metadata": {},
     "output_type": "execute_result"
    }
   ],
   "source": [
    "int(2) + int('2')"
   ]
  },
  {
   "cell_type": "code",
   "execution_count": 78,
   "metadata": {},
   "outputs": [
    {
     "data": {
      "text/plain": [
       "'22'"
      ]
     },
     "execution_count": 78,
     "metadata": {},
     "output_type": "execute_result"
    }
   ],
   "source": [
    "str(2) + str('2')"
   ]
  },
  {
   "cell_type": "code",
   "execution_count": 1,
   "metadata": {},
   "outputs": [
    {
     "data": {
      "text/plain": [
       "4"
      ]
     },
     "execution_count": 1,
     "metadata": {},
     "output_type": "execute_result"
    }
   ],
   "source": [
    "# 26. Realizar una operación válida entre valores de tipo entero y string\n",
    "a = 2\n",
    "b = '2'\n",
    "\n",
    "a + (int('2'))"
   ]
  }
 ],
 "metadata": {
  "kernelspec": {
   "display_name": "Python 3",
   "language": "python",
   "name": "python3"
  },
  "language_info": {
   "codemirror_mode": {
    "name": "ipython",
    "version": 3
   },
   "file_extension": ".py",
   "mimetype": "text/x-python",
   "name": "python",
   "nbconvert_exporter": "python",
   "pygments_lexer": "ipython3",
   "version": "3.11.1 (tags/v3.11.1:a7a450f, Dec  6 2022, 19:58:39) [MSC v.1934 64 bit (AMD64)]"
  },
  "orig_nbformat": 4,
  "vscode": {
   "interpreter": {
    "hash": "9064f38cad42bda19d2880856372a1e989da508f625197565152e52c20fdf116"
   }
  }
 },
 "nbformat": 4,
 "nbformat_minor": 2
}
